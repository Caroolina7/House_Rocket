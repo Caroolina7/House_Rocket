{
 "cells": [
  {
   "cell_type": "code",
   "execution_count": 2,
   "id": "3fb29e2c",
   "metadata": {},
   "outputs": [
    {
     "name": "stdout",
     "output_type": "stream",
     "text": [
      "<class 'pandas.core.frame.DataFrame'>\n",
      "RangeIndex: 48895 entries, 0 to 48894\n",
      "Data columns (total 16 columns):\n",
      " #   Column                          Non-Null Count  Dtype  \n",
      "---  ------                          --------------  -----  \n",
      " 0   id                              48895 non-null  int64  \n",
      " 1   name                            48879 non-null  object \n",
      " 2   host_id                         48895 non-null  int64  \n",
      " 3   host_name                       48874 non-null  object \n",
      " 4   neighbourhood_group             48895 non-null  object \n",
      " 5   neighbourhood                   48895 non-null  object \n",
      " 6   latitude                        48895 non-null  float64\n",
      " 7   longitude                       48895 non-null  float64\n",
      " 8   room_type                       48895 non-null  object \n",
      " 9   price                           48895 non-null  int64  \n",
      " 10  minimum_nights                  48895 non-null  int64  \n",
      " 11  number_of_reviews               48895 non-null  int64  \n",
      " 12  last_review                     38843 non-null  object \n",
      " 13  reviews_per_month               38843 non-null  float64\n",
      " 14  calculated_host_listings_count  48895 non-null  int64  \n",
      " 15  availability_365                48895 non-null  int64  \n",
      "dtypes: float64(3), int64(7), object(6)\n",
      "memory usage: 6.0+ MB\n",
      "None\n"
     ]
    }
   ],
   "source": [
    "import pandas as pd\n",
    "import numpy as np\n",
    "\n",
    "\n",
    "df = pd.read_csv('csv/ab_nyc_2019.csv')\n",
    "\n",
    "print(df.info())"
   ]
  },
  {
   "cell_type": "code",
   "execution_count": 3,
   "id": "8cf267e9",
   "metadata": {},
   "outputs": [],
   "source": [
    "df['last_review'] = pd.to_datetime(df['last_review'], format ='%Y-%m-%d')"
   ]
  },
  {
   "cell_type": "code",
   "execution_count": null,
   "id": "25cb5631",
   "metadata": {},
   "outputs": [],
   "source": []
  },
  {
   "cell_type": "markdown",
   "id": "a5cbb047",
   "metadata": {},
   "source": [
    "# 1.Qual o `id` do imóvel com o aluguel (diária) mais caro da base de dados?\n",
    "\n",
    "Selecionar a coluna price e ordenar de forma decrescente/ Apresentar o resultado da primeira linha"
   ]
  },
  {
   "cell_type": "code",
   "execution_count": 4,
   "id": "91aab65e",
   "metadata": {},
   "outputs": [
    {
     "data": {
      "text/plain": [
       "7003697"
      ]
     },
     "execution_count": 4,
     "metadata": {},
     "output_type": "execute_result"
    }
   ],
   "source": [
    "mais_cara = df[df['price'] == df['price'].max()].iloc[0, 0]\n",
    "mais_cara"
   ]
  },
  {
   "cell_type": "markdown",
   "id": "d41d6f03",
   "metadata": {},
   "source": [
    "# 2. Qual o `id` do imóvel com o aluguel (diária) mais barato da base de dados?\n",
    "\n",
    "Selecionar o minimo do valor da coluna price"
   ]
  },
  {
   "cell_type": "code",
   "execution_count": 5,
   "id": "d67483d2",
   "metadata": {},
   "outputs": [
    {
     "data": {
      "text/plain": [
       "18750597"
      ]
     },
     "execution_count": 5,
     "metadata": {},
     "output_type": "execute_result"
    }
   ],
   "source": [
    "mais_barato = df[df['price'] == df['price'].min()].iloc[0, 0]\n",
    "mais_barato"
   ]
  },
  {
   "cell_type": "markdown",
   "id": "d817e9a8",
   "metadata": {},
   "source": [
    "1620248"
   ]
  },
  {
   "cell_type": "markdown",
   "id": "378bb1e5",
   "metadata": {},
   "source": [
    "# 3. Qual o `id` do imóvel que foi mais locado da base de dados?\n",
    "\n",
    "Selecionar o valor máximo da coluna 'calculated_host_listings_count'"
   ]
  },
  {
   "cell_type": "code",
   "execution_count": 6,
   "id": "84d97d44",
   "metadata": {},
   "outputs": [
    {
     "data": {
      "text/plain": [
       "30181691"
      ]
     },
     "execution_count": 6,
     "metadata": {},
     "output_type": "execute_result"
    }
   ],
   "source": [
    "mais_locado = df[df['calculated_host_listings_count'] == df['calculated_host_listings_count'].max()].iloc[0, 0]\n",
    "mais_locado"
   ]
  },
  {
   "cell_type": "markdown",
   "id": "1fdd4a76",
   "metadata": {},
   "source": [
    "9145202"
   ]
  },
  {
   "cell_type": "markdown",
   "id": "c71b83c1",
   "metadata": {},
   "source": [
    "# 4. Qual o `id` do imóvel que ficou mais tempo com o anúncio disponível, em dias, para locação na base de dados?\n",
    "\n",
    "Selecionar o valor máximo da coluna 'availability_365'"
   ]
  },
  {
   "cell_type": "code",
   "execution_count": 7,
   "id": "d322e26f",
   "metadata": {},
   "outputs": [
    {
     "data": {
      "text/plain": [
       "2539"
      ]
     },
     "execution_count": 7,
     "metadata": {},
     "output_type": "execute_result"
    }
   ],
   "source": [
    "mais_tempovago = df[df['availability_365'] == df['availability_365'].max()].iloc[0, 0]\n",
    "mais_tempovago"
   ]
  },
  {
   "cell_type": "markdown",
   "id": "d3a86a6d",
   "metadata": {},
   "source": [
    "# 5. Qual o `id` do imóvel que ficou menos tempo com o anúncio disponível, em dias, para locação na base de dados?\n",
    "\n",
    "Selecionar o valor mínimo da coluna 'availability_365"
   ]
  },
  {
   "cell_type": "code",
   "execution_count": 8,
   "id": "4c1c5a51",
   "metadata": {},
   "outputs": [
    {
     "data": {
      "text/plain": [
       "5022"
      ]
     },
     "execution_count": 8,
     "metadata": {},
     "output_type": "execute_result"
    }
   ],
   "source": [
    "menos_tempovago = df[df['availability_365'] == df['availability_365'].min()].iloc[0, 0]\n",
    "menos_tempovago"
   ]
  },
  {
   "cell_type": "markdown",
   "id": "026ddec7",
   "metadata": {},
   "source": [
    "# 6. O imóvel com o maior valor de aluguel (diária) da base de dados é o imóvel que possui mais avaliações na base de dados?\n",
    "\n",
    "Buscar o número máximo de avaliações em um imovel\n",
    "verificar se o imovel com maior valor de aluguel apresenta esse valor"
   ]
  },
  {
   "cell_type": "code",
   "execution_count": 9,
   "id": "e0fb9ae7",
   "metadata": {},
   "outputs": [
    {
     "name": "stdout",
     "output_type": "stream",
     "text": [
      "A casa mais cara possui 0.04, já a casa que possui um maior numero de avaliaçãoes apresenta 58.5, desa forma a resposta é: NÃO\n"
     ]
    }
   ],
   "source": [
    "\n",
    "maximo_aval = df['reviews_per_month'].max()\n",
    "maximo_aval\n",
    "\n",
    "mais_cara = df[df['price'] == df['price'].max()].iloc[0, 13]\n",
    "mais_cara\n",
    "\n",
    "print(f'A casa mais cara possui {mais_cara}, já a casa que possui um maior numero de avaliaçãoes apresenta {maximo_aval}, desa forma a resposta é: NÃO')"
   ]
  },
  {
   "cell_type": "markdown",
   "id": "db19553f",
   "metadata": {},
   "source": [
    "# 7. O imóvel que possui a menor quantidade mínima de diárias para locação é\n",
    "também o imóvel que possui o aluguel mais caro?\n",
    "\n",
    "Buscar o imovel que possui menor quantidade de diarias 'minimum_nights' e relacionar com o \n",
    "imovel com maior valor de aluguel\n"
   ]
  },
  {
   "cell_type": "code",
   "execution_count": 10,
   "id": "ef35e16e",
   "metadata": {},
   "outputs": [
    {
     "name": "stdout",
     "output_type": "stream",
     "text": [
      "A casa mais cara possui 100 diárias, já a casa que possui um menor numero apresenta 1 diária, dessa forma a resposta é: NÃO\n"
     ]
    }
   ],
   "source": [
    "\n",
    "menor_diaria = df['minimum_nights'].min()\n",
    "menor_diaria\n",
    "\n",
    "mais_cara = df[df['price'] == df['price'].max()].iloc[0, 10]\n",
    "mais_cara\n",
    "\n",
    "print(f'A casa mais cara possui {mais_cara} diárias, já a casa que possui um menor numero apresenta {menor_diaria} diária, dessa forma a resposta é: NÃO')"
   ]
  },
  {
   "cell_type": "markdown",
   "id": "3c6ef659",
   "metadata": {},
   "source": [
    "# 8. Qual é a média do número mínimo de diárias para locação de um imóvel?\n",
    "\n",
    "Selecionar a coluna 'minimum_nights' aplicar uma operação matematica para saber o valor médio"
   ]
  },
  {
   "cell_type": "code",
   "execution_count": 11,
   "id": "d563e850",
   "metadata": {},
   "outputs": [
    {
     "data": {
      "text/plain": [
       "7.029962163820431"
      ]
     },
     "execution_count": 11,
     "metadata": {},
     "output_type": "execute_result"
    }
   ],
   "source": [
    "media_y = df['minimum_nights'].mean()\n",
    "media_y"
   ]
  },
  {
   "cell_type": "markdown",
   "id": "4ea4a7a9",
   "metadata": {},
   "source": [
    "# 9. Qual é o `id` do imóvel com a menor quantidade mínima de diárias para locação da base de dados?\n",
    "\n",
    "Selecionar o menor valor da coluna 'minimum_nights' e localizar o id desse imovel\n",
    "\n",
    "\n"
   ]
  },
  {
   "cell_type": "code",
   "execution_count": 12,
   "id": "20b9040b",
   "metadata": {},
   "outputs": [
    {
     "data": {
      "text/plain": [
       "2539"
      ]
     },
     "execution_count": 12,
     "metadata": {},
     "output_type": "execute_result"
    }
   ],
   "source": [
    "id_menor_diaria = df[df['minimum_nights'] == df['minimum_nights'].min()].iloc[0, 0]\n",
    "id_menor_diaria\n"
   ]
  },
  {
   "cell_type": "markdown",
   "id": "e32688bc",
   "metadata": {},
   "source": [
    "# 10. Qual é o `id` do host que possui o imóvel mais alugado na base de dados?\n",
    "\n",
    "Selecionar o valor máximo da coluna 'calculated_host_listings_count' e localizar o seu id"
   ]
  },
  {
   "cell_type": "code",
   "execution_count": 13,
   "id": "0c9cef81",
   "metadata": {},
   "outputs": [
    {
     "data": {
      "text/plain": [
       "219517861"
      ]
     },
     "execution_count": 13,
     "metadata": {},
     "output_type": "execute_result"
    }
   ],
   "source": [
    "id_maior_locacao = df[df['calculated_host_listings_count'] == df['calculated_host_listings_count'].max()].iloc[0, 2]\n",
    "id_maior_locacao"
   ]
  },
  {
   "cell_type": "markdown",
   "id": "12186adc",
   "metadata": {},
   "source": [
    "47621202"
   ]
  },
  {
   "cell_type": "markdown",
   "id": "a5fbb509",
   "metadata": {},
   "source": [
    "# 11. Qual é o `id` do host que possui o imóvel menos alugado na base de dados?\n",
    "\n",
    "repetir o mesmo que o anterior, porém selecionando o mínimo"
   ]
  },
  {
   "cell_type": "code",
   "execution_count": 14,
   "id": "832e8f15",
   "metadata": {},
   "outputs": [
    {
     "data": {
      "text/plain": [
       "4632"
      ]
     },
     "execution_count": 14,
     "metadata": {},
     "output_type": "execute_result"
    }
   ],
   "source": [
    "id_menor_locacao = df[df['calculated_host_listings_count'] == df['calculated_host_listings_count'].min()].iloc[0, 2]\n",
    "id_menor_locacao"
   ]
  },
  {
   "cell_type": "markdown",
   "id": "454c89ad",
   "metadata": {},
   "source": [
    "c = 82685"
   ]
  },
  {
   "cell_type": "markdown",
   "id": "4a91528b",
   "metadata": {},
   "source": [
    "# 12. Qual é o `id` do host que possui o imóvel com mais avaliações na base de dados?"
   ]
  },
  {
   "cell_type": "code",
   "execution_count": 15,
   "id": "67edab95",
   "metadata": {},
   "outputs": [
    {
     "data": {
      "text/plain": [
       "244361589"
      ]
     },
     "execution_count": 15,
     "metadata": {},
     "output_type": "execute_result"
    }
   ],
   "source": [
    "\n",
    "df1 = df[df['reviews_per_month']> 1]\n",
    "df1\n",
    "\n",
    "id_mais_avaliac = df1[df1['reviews_per_month'] == df1['reviews_per_month'].max()].iloc[0, 2]\n",
    "id_mais_avaliac"
   ]
  },
  {
   "cell_type": "markdown",
   "id": "aac9d1c6",
   "metadata": {},
   "source": [
    "47621202"
   ]
  },
  {
   "cell_type": "markdown",
   "id": "fc6696c6",
   "metadata": {},
   "source": [
    "# 13. Qual é o `id` do host que possui a maior quantidade de imóveis cadastrados na base de dados?\n",
    "\n",
    "Verificar a quantidade de vezes que cada 'id do host' aparece nas linhas\n",
    "Através do agrupamendo do id do host, somar a quantidade de imoveis\n",
    "\n"
   ]
  },
  {
   "cell_type": "code",
   "execution_count": 16,
   "id": "a69e7df9",
   "metadata": {},
   "outputs": [
    {
     "data": {
      "text/plain": [
       "219517861"
      ]
     },
     "execution_count": 16,
     "metadata": {},
     "output_type": "execute_result"
    }
   ],
   "source": [
    "imoveis_por_id = df[['id','host_id']].groupby('host_id').sum().sort_values('id', ascending = False).reset_index().iloc[0, 0]\n",
    "imoveis_por_id"
   ]
  },
  {
   "cell_type": "markdown",
   "id": "00b61968",
   "metadata": {},
   "source": [
    "# 14. Qual o `id` do host que possui o imóvel com a última avaliação feita na base de dados?\n",
    "\n",
    "Ordenar a coluna 'last_review' e selecionar o id do host"
   ]
  },
  {
   "cell_type": "code",
   "execution_count": 17,
   "id": "43a2a322",
   "metadata": {},
   "outputs": [
    {
     "data": {
      "text/plain": [
       "74162901"
      ]
     },
     "execution_count": 17,
     "metadata": {},
     "output_type": "execute_result"
    }
   ],
   "source": [
    "\n",
    "\n",
    "id_host_last_review = df[['host_id','last_review']].sort_values('last_review', ascending = False).reset_index().iloc[0,1]\n",
    "id_host_last_review"
   ]
  },
  {
   "cell_type": "markdown",
   "id": "650e3192",
   "metadata": {},
   "source": [
    "526653"
   ]
  },
  {
   "cell_type": "markdown",
   "id": "f071d31c",
   "metadata": {},
   "source": [
    "# 15. Qual o `id` do host que possui mais imóveis ativos dentro da base de dados?"
   ]
  },
  {
   "cell_type": "code",
   "execution_count": 19,
   "id": "5ba81fba",
   "metadata": {
    "scrolled": true
   },
   "outputs": [
    {
     "data": {
      "text/html": [
       "<div>\n",
       "<style scoped>\n",
       "    .dataframe tbody tr th:only-of-type {\n",
       "        vertical-align: middle;\n",
       "    }\n",
       "\n",
       "    .dataframe tbody tr th {\n",
       "        vertical-align: top;\n",
       "    }\n",
       "\n",
       "    .dataframe thead th {\n",
       "        text-align: right;\n",
       "    }\n",
       "</style>\n",
       "<table border=\"1\" class=\"dataframe\">\n",
       "  <thead>\n",
       "    <tr style=\"text-align: right;\">\n",
       "      <th></th>\n",
       "      <th>index</th>\n",
       "      <th>host_id</th>\n",
       "      <th>reviews_per_month</th>\n",
       "    </tr>\n",
       "  </thead>\n",
       "  <tbody>\n",
       "    <tr>\n",
       "      <th>0</th>\n",
       "      <td>42075</td>\n",
       "      <td>244361589</td>\n",
       "      <td>58.50</td>\n",
       "    </tr>\n",
       "    <tr>\n",
       "      <th>1</th>\n",
       "      <td>42076</td>\n",
       "      <td>244361589</td>\n",
       "      <td>27.95</td>\n",
       "    </tr>\n",
       "    <tr>\n",
       "      <th>2</th>\n",
       "      <td>38870</td>\n",
       "      <td>228415932</td>\n",
       "      <td>20.94</td>\n",
       "    </tr>\n",
       "    <tr>\n",
       "      <th>3</th>\n",
       "      <td>27287</td>\n",
       "      <td>156684502</td>\n",
       "      <td>19.75</td>\n",
       "    </tr>\n",
       "    <tr>\n",
       "      <th>4</th>\n",
       "      <td>28651</td>\n",
       "      <td>156684502</td>\n",
       "      <td>17.82</td>\n",
       "    </tr>\n",
       "    <tr>\n",
       "      <th>...</th>\n",
       "      <td>...</td>\n",
       "      <td>...</td>\n",
       "      <td>...</td>\n",
       "    </tr>\n",
       "    <tr>\n",
       "      <th>48879</th>\n",
       "      <td>48890</td>\n",
       "      <td>8232441</td>\n",
       "      <td>NaN</td>\n",
       "    </tr>\n",
       "    <tr>\n",
       "      <th>48880</th>\n",
       "      <td>48891</td>\n",
       "      <td>6570630</td>\n",
       "      <td>NaN</td>\n",
       "    </tr>\n",
       "    <tr>\n",
       "      <th>48881</th>\n",
       "      <td>48892</td>\n",
       "      <td>23492952</td>\n",
       "      <td>NaN</td>\n",
       "    </tr>\n",
       "    <tr>\n",
       "      <th>48882</th>\n",
       "      <td>48893</td>\n",
       "      <td>30985759</td>\n",
       "      <td>NaN</td>\n",
       "    </tr>\n",
       "    <tr>\n",
       "      <th>48883</th>\n",
       "      <td>48894</td>\n",
       "      <td>68119814</td>\n",
       "      <td>NaN</td>\n",
       "    </tr>\n",
       "  </tbody>\n",
       "</table>\n",
       "<p>48884 rows × 3 columns</p>\n",
       "</div>"
      ],
      "text/plain": [
       "       index    host_id  reviews_per_month\n",
       "0      42075  244361589              58.50\n",
       "1      42076  244361589              27.95\n",
       "2      38870  228415932              20.94\n",
       "3      27287  156684502              19.75\n",
       "4      28651  156684502              17.82\n",
       "...      ...        ...                ...\n",
       "48879  48890    8232441                NaN\n",
       "48880  48891    6570630                NaN\n",
       "48881  48892   23492952                NaN\n",
       "48882  48893   30985759                NaN\n",
       "48883  48894   68119814                NaN\n",
       "\n",
       "[48884 rows x 3 columns]"
      ]
     },
     "execution_count": 19,
     "metadata": {},
     "output_type": "execute_result"
    }
   ],
   "source": [
    "\n",
    "id_host_count = df7[['host_id','reviews_per_month']].sort_values('reviews_per_month', ascending = False).reset_index()\n",
    "id_host_count"
   ]
  },
  {
   "cell_type": "code",
   "execution_count": null,
   "id": "00ca61b8",
   "metadata": {},
   "outputs": [],
   "source": [
    "219517861"
   ]
  },
  {
   "cell_type": "markdown",
   "id": "bf803273",
   "metadata": {},
   "source": [
    "# 16. O host que possui mais imóveis é o host que também possui mais avaliações?\n",
    "\n",
    "mais avaliações 244361589\n",
    "mais imoveis 219517861"
   ]
  },
  {
   "cell_type": "code",
   "execution_count": 130,
   "id": "4c4e89dd",
   "metadata": {},
   "outputs": [],
   "source": [
    "#Sim"
   ]
  },
  {
   "cell_type": "markdown",
   "id": "bbbd1e1c",
   "metadata": {},
   "source": [
    "# 17. Qual é a categoria que mais possui imóveis dentro da base de dados?"
   ]
  },
  {
   "cell_type": "code",
   "execution_count": 133,
   "id": "10ca427a",
   "metadata": {},
   "outputs": [
    {
     "data": {
      "text/plain": [
       "'Entire home/apt'"
      ]
     },
     "execution_count": 133,
     "metadata": {},
     "output_type": "execute_result"
    }
   ],
   "source": [
    "categoria_mais = df[['id','room_type']].groupby('room_type').sum().sort_values('id', ascending = False).reset_index().iloc[0, 0]\n",
    "categoria_mais"
   ]
  },
  {
   "cell_type": "markdown",
   "id": "afce1b1b",
   "metadata": {},
   "source": [
    "# 18. Qual é a categoria que menos possui imóveis dentro da base de dados?"
   ]
  },
  {
   "cell_type": "code",
   "execution_count": 134,
   "id": "35da8ec8",
   "metadata": {},
   "outputs": [
    {
     "data": {
      "text/plain": [
       "'Shared room'"
      ]
     },
     "execution_count": 134,
     "metadata": {},
     "output_type": "execute_result"
    }
   ],
   "source": [
    "categoria_menos = df[['id','room_type']].groupby('room_type').sum().sort_values('id', ascending = True).reset_index().iloc[0, 0]\n",
    "categoria_menos\n"
   ]
  },
  {
   "cell_type": "markdown",
   "id": "1e70eda7",
   "metadata": {},
   "source": []
  },
  {
   "cell_type": "code",
   "execution_count": null,
   "id": "036d6c64",
   "metadata": {},
   "outputs": [],
   "source": [
    "\n"
   ]
  },
  {
   "cell_type": "code",
   "execution_count": null,
   "id": "62fa69a0",
   "metadata": {},
   "outputs": [],
   "source": []
  }
 ],
 "metadata": {
  "kernelspec": {
   "display_name": "Python 3 (ipykernel)",
   "language": "python",
   "name": "python3"
  },
  "language_info": {
   "codemirror_mode": {
    "name": "ipython",
    "version": 3
   },
   "file_extension": ".py",
   "mimetype": "text/x-python",
   "name": "python",
   "nbconvert_exporter": "python",
   "pygments_lexer": "ipython3",
   "version": "3.10.6"
  }
 },
 "nbformat": 4,
 "nbformat_minor": 5
}
